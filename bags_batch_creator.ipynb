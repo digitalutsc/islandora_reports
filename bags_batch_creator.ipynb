{
 "cells": [
  {
   "cell_type": "code",
   "execution_count": 1,
   "metadata": {
    "collapsed": true
   },
   "outputs": [],
   "source": [
    "##################################################\n",
    "## Script to creat bags in a batch using islandora_bagit.\n",
    "##################################################\n",
    "## GNU General Public License, version 2\n",
    "## Author: UTSC DSU\n",
    "##################################################"
   ]
  },
  {
   "cell_type": "code",
   "execution_count": 13,
   "metadata": {
    "collapsed": true
   },
   "outputs": [],
   "source": [
    "import pandas as pd\n",
    "import datetime\n",
    "import subprocess\n",
    "import configparser"
   ]
  },
  {
   "cell_type": "code",
   "execution_count": 14,
   "metadata": {},
   "outputs": [],
   "source": [
    "config = configparser.ConfigParser()\n",
    "config.read('bags_config.ini')\n",
    "reports_folder = config['BAG_SCRIPTS']['reports_folder']\n",
    "pids_to_create_bags = config['BAG_SCRIPTS']['pids_to_create_bags']\n",
    "bags_creation_report = config['BAG_SCRIPTS']['bags_creation_report']"
   ]
  },
  {
   "cell_type": "code",
   "execution_count": 15,
   "metadata": {},
   "outputs": [],
   "source": [
    "# Load the pid list\n",
    "df = pd.read_csv(reports_folder + \"/\" + pids_to_create_bags)"
   ]
  },
  {
   "cell_type": "code",
   "execution_count": 16,
   "metadata": {},
   "outputs": [
    {
     "name": "stdout",
     "output_type": "stream",
     "text": [
      "/bin/sh: 1: drush: not found\n",
      "nearbystudies:703 Fail\n",
      "/bin/sh: 1: drush: not found\n",
      "nearbystudies:884 Fail\n"
     ]
    }
   ],
   "source": [
    "# Loop through the pid list and create bag\n",
    "creation_results = []\n",
    "for index, row in df.iterrows():\n",
    "    pid = row[\"PID\"]\n",
    "\n",
    "    # execute the command\n",
    "    cmd = \"drush --user=1 create-islandora-bag object \" + pid\n",
    "    cmd_output = subprocess.getoutput(cmd)\n",
    "    print(cmd_output)\n",
    "    \n",
    "    # Check status of running the command\n",
    "    creation_status = \"Fail\"\n",
    "    if \"Bag created and saved\" in str(cmd_output): \n",
    "        creation_status = \"Success\"\n",
    "        \n",
    "    # Add to result set\n",
    "    timestamp = datetime.datetime.utcnow()        \n",
    "    creation_results.append((pid, creation_status, timestamp))\n",
    "    print(pid + \" \" + creation_status)\n"
   ]
  },
  {
   "cell_type": "code",
   "execution_count": 17,
   "metadata": {},
   "outputs": [
    {
     "data": {
      "text/html": [
       "<div>\n",
       "<style>\n",
       "    .dataframe thead tr:only-child th {\n",
       "        text-align: right;\n",
       "    }\n",
       "\n",
       "    .dataframe thead th {\n",
       "        text-align: left;\n",
       "    }\n",
       "\n",
       "    .dataframe tbody tr th {\n",
       "        vertical-align: top;\n",
       "    }\n",
       "</style>\n",
       "<table border=\"1\" class=\"dataframe\">\n",
       "  <thead>\n",
       "    <tr style=\"text-align: right;\">\n",
       "      <th></th>\n",
       "      <th>pid</th>\n",
       "      <th>creation_status</th>\n",
       "      <th>created_on</th>\n",
       "    </tr>\n",
       "  </thead>\n",
       "  <tbody>\n",
       "    <tr>\n",
       "      <th>0</th>\n",
       "      <td>nearbystudies:703</td>\n",
       "      <td>Fail</td>\n",
       "      <td>2019-05-07 14:21:11.802163</td>\n",
       "    </tr>\n",
       "    <tr>\n",
       "      <th>1</th>\n",
       "      <td>nearbystudies:884</td>\n",
       "      <td>Fail</td>\n",
       "      <td>2019-05-07 14:21:11.805656</td>\n",
       "    </tr>\n",
       "  </tbody>\n",
       "</table>\n",
       "</div>"
      ],
      "text/plain": [
       "                 pid creation_status                 created_on\n",
       "0  nearbystudies:703            Fail 2019-05-07 14:21:11.802163\n",
       "1  nearbystudies:884            Fail 2019-05-07 14:21:11.805656"
      ]
     },
     "execution_count": 17,
     "metadata": {},
     "output_type": "execute_result"
    }
   ],
   "source": [
    "df_creation_results = pd.DataFrame(creation_results, columns=('pid', 'creation_status', \"created_on\"))\n",
    "df_creation_results.to_csv(reports_folder + \"/\" + bags_creation_report)\n",
    "df_creation_results"
   ]
  },
  {
   "cell_type": "code",
   "execution_count": null,
   "metadata": {
    "collapsed": true
   },
   "outputs": [],
   "source": []
  }
 ],
 "metadata": {
  "kernelspec": {
   "display_name": "Python 3",
   "language": "python",
   "name": "python3"
  },
  "language_info": {
   "codemirror_mode": {
    "name": "ipython",
    "version": 3
   },
   "file_extension": ".py",
   "mimetype": "text/x-python",
   "name": "python",
   "nbconvert_exporter": "python",
   "pygments_lexer": "ipython3",
   "version": "3.6.3"
  }
 },
 "nbformat": 4,
 "nbformat_minor": 2
}
