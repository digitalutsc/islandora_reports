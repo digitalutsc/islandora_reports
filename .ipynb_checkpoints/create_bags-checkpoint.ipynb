{
 "cells": [
  {
   "cell_type": "code",
   "execution_count": null,
   "metadata": {
    "collapsed": true
   },
   "outputs": [],
   "source": [
    "##################################################\n",
    "## Script to creat bags in a batch using islandora_bagit.\n",
    "##################################################\n",
    "## GNU General Public License, version 2\n",
    "## Author: UTSC DSU\n",
    "##################################################"
   ]
  },
  {
   "cell_type": "code",
   "execution_count": 1,
   "metadata": {
    "collapsed": true
   },
   "outputs": [],
   "source": [
    "import pandas as pd\n",
    "import datetime\n",
    "import subprocess"
   ]
  },
  {
   "cell_type": "code",
   "execution_count": 2,
   "metadata": {
    "collapsed": true
   },
   "outputs": [],
   "source": [
    "# Load the pid list\n",
    "df = pd.read_csv(\"bags_report_csv.csv\")"
   ]
  },
  {
   "cell_type": "code",
   "execution_count": 3,
   "metadata": {},
   "outputs": [
    {
     "name": "stdout",
     "output_type": "stream",
     "text": [
      "/bin/sh: 1: drush: not found\n",
      "id:1 Fail\n",
      "/bin/sh: 1: drush: not found\n",
      "id:2 Fail\n",
      "/bin/sh: 1: drush: not found\n",
      "id:3 Fail\n"
     ]
    }
   ],
   "source": [
    "# Loop through the pid list and create bag\n",
    "creation_results = []\n",
    "for index, row in df.iterrows():\n",
    "    pid = row[\"PID\"]\n",
    "\n",
    "    # execute the command\n",
    "    cmd = \"drush --user=1 create-islandora-bag object \" + pid\n",
    "    cmd_output = subprocess.getoutput(cmd)\n",
    "    print(cmd_output)\n",
    "    \n",
    "    # Check status of running the command\n",
    "    creation_status = \"Fail\"\n",
    "    if \"Bag created and saved\" in str(cmd_output): \n",
    "        creation_status = \"Success\"\n",
    "        \n",
    "    # Add to result set\n",
    "    timestamp = datetime.datetime.utcnow()        \n",
    "    creation_results.append((pid, creation_status, timestamp))\n",
    "    print(pid + \" \" + creation_status)\n"
   ]
  },
  {
   "cell_type": "code",
   "execution_count": null,
   "metadata": {
    "collapsed": true
   },
   "outputs": [],
   "source": [
    "df_creation_results = pd.DataFrame(creation_results, columns=('pid', 'creation_status', \"created_on\"))\n",
    "df_creation_results.to_csv(\"bags_creation_report.csv\")\n",
    "df_creation_results"
   ]
  },
  {
   "cell_type": "code",
   "execution_count": null,
   "metadata": {
    "collapsed": true
   },
   "outputs": [],
   "source": []
  }
 ],
 "metadata": {
  "kernelspec": {
   "display_name": "Python 3",
   "language": "python",
   "name": "python3"
  },
  "language_info": {
   "codemirror_mode": {
    "name": "ipython",
    "version": 3
   },
   "file_extension": ".py",
   "mimetype": "text/x-python",
   "name": "python",
   "nbconvert_exporter": "python",
   "pygments_lexer": "ipython3",
   "version": "3.6.3"
  }
 },
 "nbformat": 4,
 "nbformat_minor": 2
}
