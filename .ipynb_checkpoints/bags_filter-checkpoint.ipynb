{
 "cells": [
  {
   "cell_type": "code",
   "execution_count": 16,
   "metadata": {
    "collapsed": true
   },
   "outputs": [],
   "source": [
    "import pandas as pd\n",
    "import datetime as date\n",
    "import configparser"
   ]
  },
  {
   "cell_type": "code",
   "execution_count": 17,
   "metadata": {},
   "outputs": [],
   "source": [
    "config = configparser.ConfigParser()\n",
    "config.read('bags_config.ini')\n",
    "data_folder = config['BAG_SCRIPTS']['data_folder']\n",
    "reports_folder = config['BAG_SCRIPTS']['reports_folder']\n",
    "last_baged_date = config['BAG_SCRIPTS']['last_baged_date']\n",
    "bags_data_csv = config['BAG_SCRIPTS']['bags_data_csv']\n",
    "pids_to_create_bags = config['BAG_SCRIPTS']['pids_to_create_bags']"
   ]
  },
  {
   "cell_type": "code",
   "execution_count": 18,
   "metadata": {},
   "outputs": [
    {
     "data": {
      "text/html": [
       "<div>\n",
       "<style>\n",
       "    .dataframe thead tr:only-child th {\n",
       "        text-align: right;\n",
       "    }\n",
       "\n",
       "    .dataframe thead th {\n",
       "        text-align: left;\n",
       "    }\n",
       "\n",
       "    .dataframe tbody tr th {\n",
       "        vertical-align: top;\n",
       "    }\n",
       "</style>\n",
       "<table border=\"1\" class=\"dataframe\">\n",
       "  <thead>\n",
       "    <tr style=\"text-align: right;\">\n",
       "      <th></th>\n",
       "      <th>PID</th>\n",
       "      <th>RELS_EXT_isMemberOfCollection_uri_ms</th>\n",
       "      <th>RELS_EXT_hasModel_uri_ms</th>\n",
       "      <th>RELS_EXT_isPageOf_uri_ms</th>\n",
       "      <th>dc.title</th>\n",
       "      <th>last_nonpremis_audit_date</th>\n",
       "    </tr>\n",
       "  </thead>\n",
       "  <tbody>\n",
       "    <tr>\n",
       "      <th>0</th>\n",
       "      <td>nearbystudies:703</td>\n",
       "      <td>info:fedora/nearbystudies:481, info:fedora/dsu...</td>\n",
       "      <td>info:fedora/islandora:sp_basic_image</td>\n",
       "      <td>NaN</td>\n",
       "      <td>Tanya Mars archive imagesssssssssssssss</td>\n",
       "      <td>2019-04-01 21:11:43.238</td>\n",
       "    </tr>\n",
       "    <tr>\n",
       "      <th>1</th>\n",
       "      <td>dsu:233</td>\n",
       "      <td>info:fedora/dsu:testobjects</td>\n",
       "      <td>info:fedora/islandora:sp_basic_image</td>\n",
       "      <td>NaN</td>\n",
       "      <td>basic image 2</td>\n",
       "      <td>2019-05-06 15:36:16.613</td>\n",
       "    </tr>\n",
       "    <tr>\n",
       "      <th>2</th>\n",
       "      <td>nearbystudies:884</td>\n",
       "      <td>info:fedora/nearbystudies:477, info:fedora/nea...</td>\n",
       "      <td>info:fedora/islandora:oralhistoriesCModel</td>\n",
       "      <td>NaN</td>\n",
       "      <td>Diane Hill: Oral History</td>\n",
       "      <td>2019-04-01 03:11:53.353</td>\n",
       "    </tr>\n",
       "    <tr>\n",
       "      <th>3</th>\n",
       "      <td>gundagunde:112800</td>\n",
       "      <td>info:fedora/islandora:1009, info:fedora/dsu:te...</td>\n",
       "      <td>info:fedora/islandora:bookCModel</td>\n",
       "      <td>NaN</td>\n",
       "      <td>IR_SAMPLE_BOOK_COLLECTION</td>\n",
       "      <td>2019-05-06 15:36:55.927</td>\n",
       "    </tr>\n",
       "  </tbody>\n",
       "</table>\n",
       "</div>"
      ],
      "text/plain": [
       "                 PID               RELS_EXT_isMemberOfCollection_uri_ms  \\\n",
       "0  nearbystudies:703  info:fedora/nearbystudies:481, info:fedora/dsu...   \n",
       "1            dsu:233                        info:fedora/dsu:testobjects   \n",
       "2  nearbystudies:884  info:fedora/nearbystudies:477, info:fedora/nea...   \n",
       "3  gundagunde:112800  info:fedora/islandora:1009, info:fedora/dsu:te...   \n",
       "\n",
       "                    RELS_EXT_hasModel_uri_ms  RELS_EXT_isPageOf_uri_ms  \\\n",
       "0       info:fedora/islandora:sp_basic_image                       NaN   \n",
       "1       info:fedora/islandora:sp_basic_image                       NaN   \n",
       "2  info:fedora/islandora:oralhistoriesCModel                       NaN   \n",
       "3           info:fedora/islandora:bookCModel                       NaN   \n",
       "\n",
       "                                  dc.title last_nonpremis_audit_date  \n",
       "0  Tanya Mars archive imagesssssssssssssss   2019-04-01 21:11:43.238  \n",
       "1                            basic image 2   2019-05-06 15:36:16.613  \n",
       "2                 Diane Hill: Oral History   2019-04-01 03:11:53.353  \n",
       "3                IR_SAMPLE_BOOK_COLLECTION   2019-05-06 15:36:55.927  "
      ]
     },
     "execution_count": 18,
     "metadata": {},
     "output_type": "execute_result"
    }
   ],
   "source": [
    "# Load bags data\n",
    "df = pd.read_csv(data_folder + \"/\" + bags_data_csv) \n",
    "# Convert str to date format\n",
    "df['last_nonpremis_audit_date'] = pd.to_datetime(df.LAST_NONPREMIS_AUDIT_DATE,  format = '%Y-%m-%dT%H:%M:%S.%fZ')\n",
    "del df['LAST_NONPREMIS_AUDIT_DATE']\n",
    "df.head(10)"
   ]
  },
  {
   "cell_type": "code",
   "execution_count": 19,
   "metadata": {},
   "outputs": [
    {
     "data": {
      "text/html": [
       "<div>\n",
       "<style>\n",
       "    .dataframe thead tr:only-child th {\n",
       "        text-align: right;\n",
       "    }\n",
       "\n",
       "    .dataframe thead th {\n",
       "        text-align: left;\n",
       "    }\n",
       "\n",
       "    .dataframe tbody tr th {\n",
       "        vertical-align: top;\n",
       "    }\n",
       "</style>\n",
       "<table border=\"1\" class=\"dataframe\">\n",
       "  <thead>\n",
       "    <tr style=\"text-align: right;\">\n",
       "      <th></th>\n",
       "      <th>PID</th>\n",
       "      <th>RELS_EXT_isMemberOfCollection_uri_ms</th>\n",
       "      <th>RELS_EXT_hasModel_uri_ms</th>\n",
       "      <th>RELS_EXT_isPageOf_uri_ms</th>\n",
       "      <th>dc.title</th>\n",
       "      <th>last_nonpremis_audit_date</th>\n",
       "    </tr>\n",
       "  </thead>\n",
       "  <tbody>\n",
       "    <tr>\n",
       "      <th>0</th>\n",
       "      <td>nearbystudies:703</td>\n",
       "      <td>info:fedora/nearbystudies:481, info:fedora/dsu...</td>\n",
       "      <td>info:fedora/islandora:sp_basic_image</td>\n",
       "      <td>NaN</td>\n",
       "      <td>Tanya Mars archive imagesssssssssssssss</td>\n",
       "      <td>2019-04-01 21:11:43.238</td>\n",
       "    </tr>\n",
       "    <tr>\n",
       "      <th>2</th>\n",
       "      <td>nearbystudies:884</td>\n",
       "      <td>info:fedora/nearbystudies:477, info:fedora/nea...</td>\n",
       "      <td>info:fedora/islandora:oralhistoriesCModel</td>\n",
       "      <td>NaN</td>\n",
       "      <td>Diane Hill: Oral History</td>\n",
       "      <td>2019-04-01 03:11:53.353</td>\n",
       "    </tr>\n",
       "  </tbody>\n",
       "</table>\n",
       "</div>"
      ],
      "text/plain": [
       "                 PID               RELS_EXT_isMemberOfCollection_uri_ms  \\\n",
       "0  nearbystudies:703  info:fedora/nearbystudies:481, info:fedora/dsu...   \n",
       "2  nearbystudies:884  info:fedora/nearbystudies:477, info:fedora/nea...   \n",
       "\n",
       "                    RELS_EXT_hasModel_uri_ms  RELS_EXT_isPageOf_uri_ms  \\\n",
       "0       info:fedora/islandora:sp_basic_image                       NaN   \n",
       "2  info:fedora/islandora:oralhistoriesCModel                       NaN   \n",
       "\n",
       "                                  dc.title last_nonpremis_audit_date  \n",
       "0  Tanya Mars archive imagesssssssssssssss   2019-04-01 21:11:43.238  \n",
       "2                 Diane Hill: Oral History   2019-04-01 03:11:53.353  "
      ]
     },
     "execution_count": 19,
     "metadata": {},
     "output_type": "execute_result"
    }
   ],
   "source": [
    "# Filter by last bagged date\n",
    "last_baged_datetime = date.datetime.strptime(last_baged_date, '%Y-%m-%dT%H:%M:%S.%fZ')\n",
    "filter_by_date =  df['last_nonpremis_audit_date'] < last_baged_datetime\n",
    "df = df[filter_by_date]\n",
    "df.head(10)"
   ]
  },
  {
   "cell_type": "code",
   "execution_count": 20,
   "metadata": {
    "collapsed": true
   },
   "outputs": [],
   "source": [
    "df.to_csv(reports_folder + \"/\" + pids_to_create_bags, index=False)"
   ]
  },
  {
   "cell_type": "code",
   "execution_count": null,
   "metadata": {
    "collapsed": true
   },
   "outputs": [],
   "source": []
  }
 ],
 "metadata": {
  "kernelspec": {
   "display_name": "Python 3",
   "language": "python",
   "name": "python3"
  },
  "language_info": {
   "codemirror_mode": {
    "name": "ipython",
    "version": 3
   },
   "file_extension": ".py",
   "mimetype": "text/x-python",
   "name": "python",
   "nbconvert_exporter": "python",
   "pygments_lexer": "ipython3",
   "version": "3.6.3"
  }
 },
 "nbformat": 4,
 "nbformat_minor": 2
}
