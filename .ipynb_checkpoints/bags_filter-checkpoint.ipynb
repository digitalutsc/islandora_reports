{
 "cells": [
  {
   "cell_type": "code",
   "execution_count": null,
   "metadata": {
    "collapsed": true
   },
   "outputs": [],
   "source": [
    "import pandas as pd\n",
    "import datetime as date\n",
    "import configparser"
   ]
  },
  {
   "cell_type": "code",
   "execution_count": null,
   "metadata": {
    "collapsed": true
   },
   "outputs": [],
   "source": [
    "config = configparser.ConfigParser()\n",
    "config.read('bags_config.ini')\n",
    "data_folder = config['BAG_SCRIPTS']['data_folder']\n",
    "reports_folder = config['BAG_SCRIPTS']['reports_folder']\n",
    "last_baged_date = config['BAG_SCRIPTS']['last_baged_date']\n",
    "bags_data_csv = config['BAG_SCRIPTS']['bags_data_csv']\n",
    "pids_to_create_bags = config['BAG_SCRIPTS']['pids_to_create_bags']"
   ]
  },
  {
   "cell_type": "code",
   "execution_count": null,
   "metadata": {},
   "outputs": [],
   "source": [
    "# Load bags data\n",
    "df = pd.read_csv(data_folder + \"/\" + bags_data_csv) \n",
    "# Convert str to date format\n",
    "df['last_nonpremis_audit_date'] = pd.to_datetime(df.LAST_NONPREMIS_AUDIT_DATE,  format = '%Y-%m-%dT%H:%M:%S.%fZ')\n",
    "del df['LAST_NONPREMIS_AUDIT_DATE']\n",
    "df.head(10)"
   ]
  },
  {
   "cell_type": "code",
   "execution_count": null,
   "metadata": {},
   "outputs": [],
   "source": [
    "# Filter by last bagged date\n",
    "last_baged_datetime = date.datetime.strptime(last_baged_date, '%Y-%m-%dT%H:%M:%S.%fZ')\n",
    "filter_by_date =  df['last_nonpremis_audit_date'] > last_baged_datetime\n",
    "df = df[filter_by_date]\n",
    "df.head(10)"
   ]
  },
  {
   "cell_type": "code",
   "execution_count": null,
   "metadata": {
    "collapsed": true
   },
   "outputs": [],
   "source": [
    "df.to_csv(reports_folder + \"/\" + pids_to_create_bags, index=False)"
   ]
  },
  {
   "cell_type": "code",
   "execution_count": null,
   "metadata": {
    "collapsed": true
   },
   "outputs": [],
   "source": []
  }
 ],
 "metadata": {
  "kernelspec": {
   "display_name": "Python 3",
   "language": "python",
   "name": "python3"
  },
  "language_info": {
   "codemirror_mode": {
    "name": "ipython",
    "version": 3
   },
   "file_extension": ".py",
   "mimetype": "text/x-python",
   "name": "python",
   "nbconvert_exporter": "python",
   "pygments_lexer": "ipython3",
   "version": "3.6.3"
  }
 },
 "nbformat": 4,
 "nbformat_minor": 2
}
