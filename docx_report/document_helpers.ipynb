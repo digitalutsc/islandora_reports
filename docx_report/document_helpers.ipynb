{
 "cells": [
  {
   "cell_type": "code",
   "execution_count": 2,
   "metadata": {},
   "outputs": [],
   "source": [
    "import numpy as np\n",
    "import pandas as pd\n",
    "import os\n",
    "import re"
   ]
  },
  {
   "cell_type": "code",
   "execution_count": 3,
   "metadata": {},
   "outputs": [],
   "source": [
    "def GenerateBarPlot(xValues, yValues, fileName, header):\n",
    "    N = len(xValues)\n",
    "    plt.figure(figsize=(20, 7))  # width:20, height:7\n",
    "    plt.bar(range(N), yValues, align='edge', width=0.6)\n",
    "    plt.xticks(range(N), xValues,rotation=90)\n",
    "\n",
    "    plt.gcf().subplots_adjust(bottom=0.3)\n",
    "    plt.xticks(range(N)) # add loads of ticks\n",
    "    plt.grid()\n",
    "\n",
    "    plt.gca().margins(x=0)\n",
    "    plt.gcf().canvas.draw()\n",
    "    tl = plt.gca().get_xticklabels()\n",
    "    maxsize = max([t.get_window_extent().width for t in tl])\n",
    "    m = 2.0 # inch margin\n",
    "    s = maxsize/plt.gcf().dpi*N+2*m\n",
    "    margin = m/plt.gcf().get_size_inches()[0]\n",
    "\n",
    "    plt.gcf().subplots_adjust(left=margin, right=1.-margin)\n",
    "    plt.gcf().set_size_inches(s, plt.gcf().get_size_inches()[1])\n",
    "    plt.title(header)\n",
    "    plt.savefig(fileName)"
   ]
  },
  {
   "cell_type": "code",
   "execution_count": 4,
   "metadata": {},
   "outputs": [],
   "source": [
    "def GenerateLinePlot(xValues, yValues, fileName, header):\n",
    "    N = len(xValues)\n",
    "    plt.figure(figsize=(20, 7))  # width:20, height:7\n",
    "    plt.plot(range(N), yValues,'--bo')\n",
    "    plt.xticks(range(N), xValues,rotation=90)\n",
    "\n",
    "    plt.gcf().subplots_adjust(bottom=0.3)\n",
    "    plt.xticks(range(N)) # add loads of ticks\n",
    "    plt.grid()\n",
    "\n",
    "    plt.gca().margins(x=0)\n",
    "    plt.gcf().canvas.draw()\n",
    "    tl = plt.gca().get_xticklabels()\n",
    "    maxsize = max([t.get_window_extent().width for t in tl])\n",
    "    m = 2.0 # inch margin\n",
    "    s = maxsize/plt.gcf().dpi*N+2*m\n",
    "    margin = m/plt.gcf().get_size_inches()[0]\n",
    "\n",
    "    plt.gcf().subplots_adjust(left=margin, right=1.-margin)\n",
    "    plt.gcf().set_size_inches(s, plt.gcf().get_size_inches()[1])\n",
    "    plt.title(header)\n",
    "    plt.savefig(fileName)"
   ]
  },
  {
   "cell_type": "code",
   "execution_count": 5,
   "metadata": {},
   "outputs": [],
   "source": [
    "def GenerateTable(leftColName, rightColName, data, table):\n",
    "    table.style = 'Table Grid'\n",
    "    i = 1\n",
    "    row = table.rows[0]\n",
    "    row.cells[0].paragraphs[0].add_run(leftColName).bold = True\n",
    "    row.cells[1].paragraphs[0].add_run(rightColName).bold = True\n",
    "    for key, value in sorted(data.items()):\n",
    "        row = table.rows[i]\n",
    "        row.cells[0].text = key\n",
    "        row.cells[1].text = str(value)\n",
    "        i+=1   "
   ]
  },
  {
   "cell_type": "code",
   "execution_count": null,
   "metadata": {},
   "outputs": [],
   "source": [
    "def GenerateTitle(document, title, numDiagram, expText = \"\"):\n",
    "    p = document.add_paragraph()\n",
    "    run = p.add_run(title)\n",
    "    run.bold = True\n",
    "    p.paragraph_format.alignment = WD_ALIGN_PARAGRAPH.CENTER\n",
    "    p.style = document.styles['Header']\n",
    "    if expText != \"\":\n",
    "        p = document.add_paragraph(expText)\n",
    "        p.paragraph_format.alignment = WD_ALIGN_PARAGRAPH.CENTER\n",
    "    p = document.add_paragraph(numDiagram)"
   ]
  }
 ],
 "metadata": {
  "kernelspec": {
   "display_name": "Python 3",
   "language": "python",
   "name": "python3"
  },
  "language_info": {
   "codemirror_mode": {
    "name": "ipython",
    "version": 3
   },
   "file_extension": ".py",
   "mimetype": "text/x-python",
   "name": "python",
   "nbconvert_exporter": "python",
   "pygments_lexer": "ipython3",
   "version": "3.7.7"
  }
 },
 "nbformat": 4,
 "nbformat_minor": 2
}
