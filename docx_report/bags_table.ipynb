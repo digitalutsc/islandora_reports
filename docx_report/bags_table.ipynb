{
 "cells": [
  {
   "cell_type": "code",
   "execution_count": 9,
   "metadata": {},
   "outputs": [],
   "source": [
    "from docx import Document\n",
    "import pandas as pd\n",
    "import re\n",
    "import math"
   ]
  },
  {
   "cell_type": "code",
   "execution_count": 89,
   "metadata": {},
   "outputs": [],
   "source": [
    "def lookup_fn2(df, key_col, key_val):\n",
    "    try:\n",
    "        result_df = df.loc[df[key_col] == key_val].iloc[0]\n",
    "        return result_df\n",
    "    except IndexError:\n",
    "        return pd.DataFrame()"
   ]
  },
  {
   "cell_type": "code",
   "execution_count": 93,
   "metadata": {},
   "outputs": [],
   "source": [
    "def GetValidAIPForCollection(origDf, collectionCSVNamesToName):\n",
    "    print(\"new\")\n",
    "    bagRegex = r\"^Bag-(.*)_(.*).zip$\"\n",
    "    bagRegex2 = r\"^(.*)_(.*)_foxml_atomzip.zip$\"\n",
    "    df = pd.read_csv(\"../bags_validation_report.csv\")\n",
    "    numBagPID = df.shape[0]\n",
    "    numObjects = origDf.shape[0]\n",
    "    numValid = 0\n",
    "    numInvalid = 0\n",
    "    totalAIP = 0\n",
    "    totalValidAIP = 0\n",
    "    pidCol = origDf[\"PID\"]\n",
    "    collectionCol = origDf[\"isMemberOfCollection\"]\n",
    "    collectionToNumValid = {}\n",
    "    for index, row in df.iterrows():\n",
    "        bag = row[\"bag_name\"]\n",
    "        isBagValid = False\n",
    "        if re.match(bagRegex, bag):\n",
    "            pid = re.search(bagRegex, bag).group(1)+\":\"+re.search(bagRegex, bag).group(2)\n",
    "            isBagValid = True\n",
    "        elif re.match(bagRegex2, bag):\n",
    "            pid = re.search(bagRegex2, bag).group(1)+\":\"+re.search(bagRegex2, bag).group(2)\n",
    "            isBagValid = True\n",
    "        if isBagValid:\n",
    "            origRow = lookup_fn2(origDf, \"PID\", pid)\n",
    "            if (not origRow.empty):\n",
    "                collectionRaw = origRow[\"isMemberOfCollection\"]\n",
    "                if pd.notna(collectionRaw) and pd.isna(origRow[\"isPageOf\"]) and pd.isna(origRow[\"isConstituentOf\"]):\n",
    "                    collection = collectionCSVNamesToName[collectionRaw]\n",
    "                    if collection not in collectionToNumValid:\n",
    "                        collectionToNumValid[collection] = [0,0]\n",
    "                    collectionToNumValid[collection][0]+=1\n",
    "                    totalAIP+=1\n",
    "                    valid = row[\"validation_status\"]\n",
    "                    if valid:\n",
    "                        collectionToNumValid[collection][1]+=1\n",
    "                        totalValidAIP+=1\n",
    "            else:\n",
    "                print(\"not found\",pid)\n",
    "    return collectionToNumValid, totalAIP, totalValidAIP"
   ]
  },
  {
   "cell_type": "code",
   "execution_count": null,
   "metadata": {},
   "outputs": [],
   "source": []
  }
 ],
 "metadata": {
  "kernelspec": {
   "display_name": "Python 3",
   "language": "python",
   "name": "python3"
  },
  "language_info": {
   "codemirror_mode": {
    "name": "ipython",
    "version": 3
   },
   "file_extension": ".py",
   "mimetype": "text/x-python",
   "name": "python",
   "nbconvert_exporter": "python",
   "pygments_lexer": "ipython3",
   "version": "3.7.7"
  }
 },
 "nbformat": 4,
 "nbformat_minor": 2
}
