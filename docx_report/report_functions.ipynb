{
 "cells": [
  {
   "cell_type": "code",
   "execution_count": 14,
   "metadata": {},
   "outputs": [],
   "source": [
    "def get_namespace(column_value):\n",
    "    column_value_list = column_value.split(\":\")\n",
    "    return column_value_list[0]"
   ]
  },
  {
   "cell_type": "code",
   "execution_count": 16,
   "metadata": {},
   "outputs": [],
   "source": [
    "#https://riptutorial.com/pandas/example/25462/split--reshape--csv-strings-in-columns-into-multiple-rows--having-one-element-per-row\n",
    "# chain methods\n",
    "# 1. Sets the entire dataframe as index, except the list or specified column\n",
    "# 2. split the column to multiple columns\n",
    "# 3. transpose or stack it\n",
    "# 4. reset index to original !\n",
    "# 5. rename the 0 column\n",
    "# 6. \n",
    "def reshape_column_row(df, column_name, new_name):\n",
    "    df_reshape = \\\n",
    "    (df.set_index(df.columns.drop(column_name,1).tolist())\n",
    "       .loc[:, column_name].str.split(',', expand=True)\n",
    "       .stack()\n",
    "       .reset_index()\n",
    "       .rename(columns={0:column_name})\n",
    "       .loc[:, df.columns]\n",
    "    )\n",
    "    df_reshape.rename(columns={column_name:new_name}, inplace=True)\n",
    "    return df_reshape"
   ]
  },
  {
   "cell_type": "code",
   "execution_count": 18,
   "metadata": {},
   "outputs": [],
   "source": [
    "def convert_size(size_bytes):\n",
    "   if size_bytes == 0:\n",
    "       return \"0B\"\n",
    "   size_name = (\"B\", \"KB\", \"MB\", \"GB\", \"TB\", \"PB\", \"EB\", \"ZB\", \"YB\")\n",
    "   i = int(math.floor(math.log(size_bytes, 1024)))\n",
    "   p = math.pow(1024, i)\n",
    "   s = round(size_bytes / p, 2)\n",
    "   return \"%s %s\" % (s, size_name[i])"
   ]
  },
  {
   "cell_type": "code",
   "execution_count": 2,
   "metadata": {},
   "outputs": [],
   "source": [
    "def GetSizeForCollection(df):\n",
    "    df_datastreams_report = reshape_column_row(df, \"size_list\", \"size\")\n",
    "    df_versions = reshape_column_row(df, \"datastream_versions\", \"num_versions\")\n",
    "    df_datastreams_report[\"num_versions\"] = df_versions[\"num_versions\"]\n",
    "    del df_datastreams_report[\"datastream_versions\"]\n",
    "    df_datastreams_report['size'] = df_datastreams_report['size'].apply(lambda x: x.strip())\n",
    "    df_datastreams_report['size'].replace(\"not_set\", '0', inplace=True)\n",
    "    df_datastreams_report[\"size\"].fillna(0, inplace = True) \n",
    "    df_datastreams_report = df_datastreams_report.astype({\"size\": int})\n",
    "    df_datastreams_report = df_datastreams_report.astype({\"num_versions\": int})\n",
    "    df_datastreams_report['total_size'] = df_datastreams_report['size'] * df_datastreams_report['num_versions']\n",
    "    #print(df_datastreams_report.groupby([\"isMemberOfCollection\"])['total_size'].agg('sum').values[0])\n",
    "    return df_datastreams_report['total_size'].sum()"
   ]
  },
  {
   "cell_type": "code",
   "execution_count": null,
   "metadata": {},
   "outputs": [],
   "source": [
    "def ConvertCSVNameToName(string, regex, dictionary):\n",
    "    name = re.search(regex, string).group(1).capitalize()+\" \"+re.search(regex, string).group(2)\n",
    "    dictionary[string] = name\n",
    "    return name\n",
    "\n",
    "def GetMembers(df, df_collection_members, collection, b_include_pages):\n",
    "    is_collection_member =  df['isMemberOfCollection'] == collection\n",
    "    member_list = df[is_collection_member]\n",
    "    \n",
    "    if b_include_pages == True:\n",
    "        is_part_of_book =  df['isPageOf'] == collection\n",
    "        is_part_of_const = df['isConstituentOf'] == collection\n",
    "        member_list_pages = df[is_part_of_book]\n",
    "        member_list_const = df[is_part_of_const]\n",
    "        member_list = member_list.append(member_list_pages,ignore_index=True)\n",
    "        member_list = member_list.append(member_list_const,ignore_index=True)\n",
    "        \n",
    "    ## Loop through each member, if it is a collection model, then call this again!\n",
    "    for index, row in member_list.iterrows():\n",
    "        pid = row[\"PID\"]\n",
    "        cmodel = row[\"cmodel\"]\n",
    "        is_member_of_collection = row[\"isMemberOfCollection\"]\n",
    "        if cmodel == \"info:fedora/islandora:bookCModel\":\n",
    "            df_collection_members = GetMembers(df, df_collection_members, \"info:fedora/\"+pid, b_include_pages)\n",
    "        \n",
    "    df_collection_members = df_collection_members.append(member_list,ignore_index=True)\n",
    "    return df_collection_members\n",
    "\n",
    "def DoesPIDExist(df, colValue):\n",
    "    if len(df[df[\"PID\"]==colValue].index.values) > 0:\n",
    "        return True\n",
    "    else:\n",
    "        return False"
   ]
  }
 ],
 "metadata": {
  "kernelspec": {
   "display_name": "Python 3",
   "language": "python",
   "name": "python3"
  },
  "language_info": {
   "codemirror_mode": {
    "name": "ipython",
    "version": 3
   },
   "file_extension": ".py",
   "mimetype": "text/x-python",
   "name": "python",
   "nbconvert_exporter": "python",
   "pygments_lexer": "ipython3",
   "version": "3.7.7"
  }
 },
 "nbformat": 4,
 "nbformat_minor": 2
}
