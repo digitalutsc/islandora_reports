{
 "cells": [
  {
   "cell_type": "code",
   "execution_count": null,
   "metadata": {},
   "outputs": [],
   "source": [
    "# Builds a directed graph datastructure of islandora collections"
   ]
  },
  {
   "cell_type": "code",
   "execution_count": null,
   "metadata": {},
   "outputs": [],
   "source": [
    "import pandas as pd\n",
    "import collections\n",
    "import json"
   ]
  },
  {
   "cell_type": "code",
   "execution_count": null,
   "metadata": {},
   "outputs": [],
   "source": [
    "data_file = \"data/report_data_may_2019.csv\"\n",
    "reports_dir = \"report_prod_may_2019/\""
   ]
  },
  {
   "cell_type": "code",
   "execution_count": null,
   "metadata": {},
   "outputs": [],
   "source": [
    "# Build child parent tuple tree, recursively\n",
    "def get_collection_members(df, collection_tree, collection):   \n",
    "    children = []\n",
    "\n",
    "    is_collection_member =  df['isMemberOfCollection'] == collection\n",
    "    member_list = df[is_collection_member]\n",
    "        \n",
    "    ## Loop through each member, if it is a collection model, then call this again!\n",
    "    for index, row in member_list.iterrows():\n",
    "        pid = row[\"PID\"]\n",
    "        cmodel = row[\"cmodel\"]\n",
    "        child = {}\n",
    "        if cmodel == \"info:fedora/islandora:collectionCModel\":\n",
    "            child[\"name\"] = pid\n",
    "            child[\"parent\"] = collection\n",
    "            collection_tree = get_collection_members(df, collection_tree, \"info:fedora/\"+pid)\n",
    "            collection_name = collection.replace(\"info:fedora/\", \"\")\n",
    "            tup2 = (collection_name, pid);\n",
    "            collection_tree.append(tup2)\n",
    "        \n",
    "    return collection_tree"
   ]
  },
  {
   "cell_type": "code",
   "execution_count": null,
   "metadata": {},
   "outputs": [],
   "source": [
    "df = pd.read_csv(data_file) "
   ]
  },
  {
   "cell_type": "code",
   "execution_count": null,
   "metadata": {},
   "outputs": [],
   "source": [
    "tree = lambda: collections.defaultdict(tree)\n",
    "collection_tree = tree()\n",
    "collection = \"info:fedora/dsu:root\"\n",
    "\n",
    "path_list = [\"root\"]\n",
    "collection_tree =[]\n",
    "## Build child parent tuple tree, recursively\n",
    "collection_tree = get_collection_members(df, collection_tree, collection)\n",
    "\n",
    "print(collection_tree)"
   ]
  },
  {
   "cell_type": "code",
   "execution_count": null,
   "metadata": {},
   "outputs": [],
   "source": [
    "# Build a Directed Graph\n",
    "# https://stackoverflow.com/questions/45460653/given-a-flat-list-of-parent-child-create-a-hierarchical-dictionary-tree\n",
    "\n",
    "lst = collection_tree\n",
    "\n",
    "# Build a directed graph and a list of all names that have no parent\n",
    "graph = {name: set() for tup in lst for name in tup}\n",
    "has_parent = {name: False for tup in lst for name in tup}\n",
    "for parent, child in lst:\n",
    "    graph[parent].add(child)\n",
    "    has_parent[child] = True\n",
    "\n",
    "# All names that have absolutely no parent:\n",
    "roots = [name for name, parents in has_parent.items() if not parents]\n",
    "\n",
    "# traversal of the graph (doesn't care about duplicates and cycles)\n",
    "treeData = []\n",
    "def traverse(hierarchy, graph, names):\n",
    "    for name in names:\n",
    "        hierarchy[name] = traverse({}, graph, graph[name])\n",
    "    return hierarchy\n",
    "\n",
    "aa = traverse({}, graph, roots)\n",
    "json.dumps(aa)"
   ]
  },
  {
   "cell_type": "code",
   "execution_count": null,
   "metadata": {},
   "outputs": [],
   "source": []
  }
 ],
 "metadata": {
  "kernelspec": {
   "display_name": "Python 3",
   "language": "python",
   "name": "python3"
  },
  "language_info": {
   "codemirror_mode": {
    "name": "ipython",
    "version": 3
   },
   "file_extension": ".py",
   "mimetype": "text/x-python",
   "name": "python",
   "nbconvert_exporter": "python",
   "pygments_lexer": "ipython3",
   "version": "3.6.7"
  }
 },
 "nbformat": 4,
 "nbformat_minor": 2
}
