{
 "cells": [
  {
   "cell_type": "code",
   "execution_count": 116,
   "metadata": {
    "collapsed": true
   },
   "outputs": [],
   "source": [
    "##################################################\n",
    "## Script to validate bags in a folder.\n",
    "## Uses https://github.com/LibraryOfCongress/bagit-python for validation.\n",
    "##################################################\n",
    "## GNU General Public License, version 2\n",
    "## Author: UTSC DSU\n",
    "##################################################"
   ]
  },
  {
   "cell_type": "code",
   "execution_count": 117,
   "metadata": {},
   "outputs": [],
   "source": [
    "# -*- coding: utf-8 -*-\n",
    "import os, glob, sys\n",
    "import bagit\n",
    "import zipfile\n",
    "import tempfile\n",
    "import datetime\n",
    "import pandas as pd"
   ]
  },
  {
   "cell_type": "code",
   "execution_count": 118,
   "metadata": {
    "collapsed": true
   },
   "outputs": [],
   "source": [
    "## Specify the folder to the bags here\n",
    "path_to_bags_dir = '/home/username/pathto/my_bags'"
   ]
  },
  {
   "cell_type": "code",
   "execution_count": 119,
   "metadata": {},
   "outputs": [],
   "source": [
    "## This method extracts the zip bagit file and uses the python bagit module to validate it\n",
    "## Returns True if valid, False otherwise\n",
    "def validate_bag(path_to_bag):\n",
    "    with tempfile.TemporaryDirectory() as tmp_dir_path:\n",
    "        zip_ref = zipfile.ZipFile(path_to_bag, 'r')\n",
    "        zip_ref.extractall(tmp_dir_path)\n",
    "\n",
    "        bag_basename = os.path.basename(path_to_bag)\n",
    "        bag_foldername = os.path.splitext(bag_basename)[0]\n",
    "        bag_extracted_path = tmp_dir_path + \"/\" + bag_foldername \n",
    "        bag = bagit.Bag(bag_extracted_path)\n",
    "    \n",
    "        if bag.is_valid():\n",
    "            return True\n",
    "        else:\n",
    "            return False"
   ]
  },
  {
   "cell_type": "code",
   "execution_count": 120,
   "metadata": {},
   "outputs": [
    {
     "name": "stdout",
     "output_type": "stream",
     "text": [
      "Processing Bag-islandora_1.zip\n",
      "Validation Status for Bag-islandora_1.zip : True\n",
      "Processing Bag-islandora_2.zip\n",
      "Validation Status for Bag-islandora_2.zip : True\n"
     ]
    }
   ],
   "source": [
    "# Loops through all bags in the path_to_bags_dir dir and validates it.\n",
    "# It assumes all zip files are bags.\n",
    "\n",
    "list_of_bags = glob.glob(path_to_bags_dir + \"/*.zip\", recursive=True) \n",
    "validate_results = []\n",
    "    \n",
    "for path_to_bag in list_of_bags:\n",
    "    bag_basename = os.path.basename(path_to_bag)\n",
    "    print(\"Processing \" + bag_basename)\n",
    "    validation_status = False\n",
    "    try:\n",
    "      validation_status = validate_bag(path_to_bag)\n",
    "    except:\n",
    "      print(\"Unexpected error:\", sys.exc_info()[0])\n",
    "    \n",
    "    print(\"Validation Status for \" + bag_basename + \" : \" + str(validation_status))\n",
    "    timestamp = datetime.datetime.utcnow()\n",
    "    validate_results.append((bag_basename, validation_status, timestamp))"
   ]
  },
  {
   "cell_type": "code",
   "execution_count": 121,
   "metadata": {},
   "outputs": [
    {
     "data": {
      "text/html": [
       "<div>\n",
       "<style>\n",
       "    .dataframe thead tr:only-child th {\n",
       "        text-align: right;\n",
       "    }\n",
       "\n",
       "    .dataframe thead th {\n",
       "        text-align: left;\n",
       "    }\n",
       "\n",
       "    .dataframe tbody tr th {\n",
       "        vertical-align: top;\n",
       "    }\n",
       "</style>\n",
       "<table border=\"1\" class=\"dataframe\">\n",
       "  <thead>\n",
       "    <tr style=\"text-align: right;\">\n",
       "      <th></th>\n",
       "      <th>bag_name</th>\n",
       "      <th>validation_status</th>\n",
       "      <th>validated_on</th>\n",
       "    </tr>\n",
       "  </thead>\n",
       "  <tbody>\n",
       "    <tr>\n",
       "      <th>0</th>\n",
       "      <td>Bag-islandora_1.zip</td>\n",
       "      <td>True</td>\n",
       "      <td>2019-04-22 18:16:17.965243</td>\n",
       "    </tr>\n",
       "    <tr>\n",
       "      <th>1</th>\n",
       "      <td>Bag-islandora_2.zip</td>\n",
       "      <td>True</td>\n",
       "      <td>2019-04-22 18:16:17.987726</td>\n",
       "    </tr>\n",
       "  </tbody>\n",
       "</table>\n",
       "</div>"
      ],
      "text/plain": [
       "              bag_name  validation_status               validated_on\n",
       "0  Bag-islandora_1.zip               True 2019-04-22 18:16:17.965243\n",
       "1  Bag-islandora_2.zip               True 2019-04-22 18:16:17.987726"
      ]
     },
     "execution_count": 121,
     "metadata": {},
     "output_type": "execute_result"
    }
   ],
   "source": [
    "# Converts the results into a dataframe and saves to a csv\n",
    "df_validation_results = pd.DataFrame(validate_results, columns=('bag_name', 'validation_status', \"validated_on\"))\n",
    "df_validation_results.to_csv(\"bags_validation_report.csv\")\n",
    "df_validation_results"
   ]
  },
  {
   "cell_type": "code",
   "execution_count": 123,
   "metadata": {},
   "outputs": [
    {
     "data": {
      "text/html": [
       "<div>\n",
       "<style>\n",
       "    .dataframe thead tr:only-child th {\n",
       "        text-align: right;\n",
       "    }\n",
       "\n",
       "    .dataframe thead th {\n",
       "        text-align: left;\n",
       "    }\n",
       "\n",
       "    .dataframe tbody tr th {\n",
       "        vertical-align: top;\n",
       "    }\n",
       "</style>\n",
       "<table border=\"1\" class=\"dataframe\">\n",
       "  <thead>\n",
       "    <tr style=\"text-align: right;\">\n",
       "      <th></th>\n",
       "      <th>bag_name</th>\n",
       "      <th>validation_status</th>\n",
       "      <th>validated_on</th>\n",
       "    </tr>\n",
       "  </thead>\n",
       "  <tbody>\n",
       "  </tbody>\n",
       "</table>\n",
       "</div>"
      ],
      "text/plain": [
       "Empty DataFrame\n",
       "Columns: [bag_name, validation_status, validated_on]\n",
       "Index: []"
      ]
     },
     "execution_count": 123,
     "metadata": {},
     "output_type": "execute_result"
    }
   ],
   "source": [
    "is_valid =  df_validation_results['validation_status'] == False\n",
    "valid_bags = df_validation_results[is_valid]\n",
    "valid_bags"
   ]
  },
  {
   "cell_type": "code",
   "execution_count": null,
   "metadata": {
    "collapsed": true
   },
   "outputs": [],
   "source": []
  }
 ],
 "metadata": {
  "kernelspec": {
   "display_name": "Python 3",
   "language": "python",
   "name": "python3"
  },
  "language_info": {
   "codemirror_mode": {
    "name": "ipython",
    "version": 3
   },
   "file_extension": ".py",
   "mimetype": "text/x-python",
   "name": "python",
   "nbconvert_exporter": "python",
   "pygments_lexer": "ipython3",
   "version": "3.6.3"
  }
 },
 "nbformat": 4,
 "nbformat_minor": 2
}
